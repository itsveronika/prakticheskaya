{
 "cells": [
  {
   "cell_type": "code",
   "execution_count": 25,
   "id": "656b53ac",
   "metadata": {},
   "outputs": [],
   "source": [
    "import pandas as pd\n",
    "import numpy as np\n",
    "from sklearn.impute import SimpleImputer\n",
    "import matplotlib.pyplot as plt"
   ]
  },
  {
   "cell_type": "code",
   "execution_count": 26,
   "id": "bb9c625c",
   "metadata": {},
   "outputs": [
    {
     "data": {
      "text/html": [
       "<div>\n",
       "<style scoped>\n",
       "    .dataframe tbody tr th:only-of-type {\n",
       "        vertical-align: middle;\n",
       "    }\n",
       "\n",
       "    .dataframe tbody tr th {\n",
       "        vertical-align: top;\n",
       "    }\n",
       "\n",
       "    .dataframe thead th {\n",
       "        text-align: right;\n",
       "    }\n",
       "</style>\n",
       "<table border=\"1\" class=\"dataframe\">\n",
       "  <thead>\n",
       "    <tr style=\"text-align: right;\">\n",
       "      <th></th>\n",
       "      <th>Gender</th>\n",
       "      <th>Height</th>\n",
       "      <th>Weight</th>\n",
       "    </tr>\n",
       "  </thead>\n",
       "  <tbody>\n",
       "    <tr>\n",
       "      <th>0</th>\n",
       "      <td>Male</td>\n",
       "      <td>73.847017</td>\n",
       "      <td>241.893563</td>\n",
       "    </tr>\n",
       "    <tr>\n",
       "      <th>1</th>\n",
       "      <td>Male</td>\n",
       "      <td>68.781904</td>\n",
       "      <td>162.310473</td>\n",
       "    </tr>\n",
       "    <tr>\n",
       "      <th>2</th>\n",
       "      <td>Male</td>\n",
       "      <td>74.110105</td>\n",
       "      <td>212.740856</td>\n",
       "    </tr>\n",
       "    <tr>\n",
       "      <th>3</th>\n",
       "      <td>Male</td>\n",
       "      <td>71.730978</td>\n",
       "      <td>220.042470</td>\n",
       "    </tr>\n",
       "    <tr>\n",
       "      <th>4</th>\n",
       "      <td>Male</td>\n",
       "      <td>69.881796</td>\n",
       "      <td>206.349801</td>\n",
       "    </tr>\n",
       "    <tr>\n",
       "      <th>...</th>\n",
       "      <td>...</td>\n",
       "      <td>...</td>\n",
       "      <td>...</td>\n",
       "    </tr>\n",
       "    <tr>\n",
       "      <th>9995</th>\n",
       "      <td>Female</td>\n",
       "      <td>66.172652</td>\n",
       "      <td>136.777454</td>\n",
       "    </tr>\n",
       "    <tr>\n",
       "      <th>9996</th>\n",
       "      <td>Female</td>\n",
       "      <td>67.067155</td>\n",
       "      <td>170.867906</td>\n",
       "    </tr>\n",
       "    <tr>\n",
       "      <th>9997</th>\n",
       "      <td>Female</td>\n",
       "      <td>63.867992</td>\n",
       "      <td>128.475319</td>\n",
       "    </tr>\n",
       "    <tr>\n",
       "      <th>9998</th>\n",
       "      <td>Female</td>\n",
       "      <td>69.034243</td>\n",
       "      <td>163.852461</td>\n",
       "    </tr>\n",
       "    <tr>\n",
       "      <th>9999</th>\n",
       "      <td>Female</td>\n",
       "      <td>61.944246</td>\n",
       "      <td>113.649103</td>\n",
       "    </tr>\n",
       "  </tbody>\n",
       "</table>\n",
       "<p>10000 rows × 3 columns</p>\n",
       "</div>"
      ],
      "text/plain": [
       "      Gender     Height      Weight\n",
       "0       Male  73.847017  241.893563\n",
       "1       Male  68.781904  162.310473\n",
       "2       Male  74.110105  212.740856\n",
       "3       Male  71.730978  220.042470\n",
       "4       Male  69.881796  206.349801\n",
       "...      ...        ...         ...\n",
       "9995  Female  66.172652  136.777454\n",
       "9996  Female  67.067155  170.867906\n",
       "9997  Female  63.867992  128.475319\n",
       "9998  Female  69.034243  163.852461\n",
       "9999  Female  61.944246  113.649103\n",
       "\n",
       "[10000 rows x 3 columns]"
      ]
     },
     "execution_count": 26,
     "metadata": {},
     "output_type": "execute_result"
    }
   ],
   "source": [
    "df=pd.read_csv(r'C:\\Users\\veron\\OneDrive\\Рабочий стол\\weight-height.csv')\n",
    "df"
   ]
  },
  {
   "cell_type": "code",
   "execution_count": 27,
   "id": "fe5683ce",
   "metadata": {},
   "outputs": [
    {
     "data": {
      "text/plain": [
       "(10000, 3)"
      ]
     },
     "execution_count": 27,
     "metadata": {},
     "output_type": "execute_result"
    }
   ],
   "source": [
    "df.shape"
   ]
  },
  {
   "cell_type": "code",
   "execution_count": 28,
   "id": "dffc5abc",
   "metadata": {},
   "outputs": [
    {
     "data": {
      "text/plain": [
       "(10000, 3)"
      ]
     },
     "execution_count": 28,
     "metadata": {},
     "output_type": "execute_result"
    }
   ],
   "source": [
    "df = df.drop_duplicates()\n",
    "df.shape"
   ]
  },
  {
   "cell_type": "code",
   "execution_count": 29,
   "id": "10c1c61f",
   "metadata": {},
   "outputs": [
    {
     "data": {
      "text/plain": [
       "Gender    0.0\n",
       "Height    0.0\n",
       "Weight    0.0\n",
       "dtype: float64"
      ]
     },
     "execution_count": 29,
     "metadata": {},
     "output_type": "execute_result"
    }
   ],
   "source": [
    "df.isnull().mean() "
   ]
  },
  {
   "cell_type": "markdown",
   "id": "cefce26d",
   "metadata": {},
   "source": [
    "# уникальные значения"
   ]
  },
  {
   "cell_type": "code",
   "execution_count": 30,
   "id": "43e325cc",
   "metadata": {},
   "outputs": [
    {
     "data": {
      "text/plain": [
       "Gender        2\n",
       "Height    10000\n",
       "Weight    10000\n",
       "dtype: int64"
      ]
     },
     "execution_count": 30,
     "metadata": {},
     "output_type": "execute_result"
    }
   ],
   "source": [
    "df.nunique()"
   ]
  },
  {
   "cell_type": "markdown",
   "id": "c2dee22c",
   "metadata": {},
   "source": [
    "# Перевод дюймов и фунтов в см и кг"
   ]
  },
  {
   "cell_type": "code",
   "execution_count": 31,
   "id": "f5974b79",
   "metadata": {},
   "outputs": [
    {
     "name": "stdout",
     "output_type": "stream",
     "text": [
      "          Height\n",
      "0     187.571423\n",
      "1     174.706036\n",
      "2     188.239668\n",
      "3     182.196685\n",
      "4     177.499761\n",
      "...          ...\n",
      "9995  168.078536\n",
      "9996  170.350573\n",
      "9997  162.224700\n",
      "9998  175.346978\n",
      "9999  157.338385\n",
      "\n",
      "[10000 rows x 1 columns]\n"
     ]
    }
   ],
   "source": [
    "hei = df.iloc[0:10000][['Height']]\n",
    "h = hei * 2.54\n",
    "print(h)"
   ]
  },
  {
   "cell_type": "code",
   "execution_count": 32,
   "id": "ac276b18",
   "metadata": {},
   "outputs": [
    {
     "name": "stdout",
     "output_type": "stream",
     "text": [
      "          Weight\n",
      "0     108.852103\n",
      "1      73.039713\n",
      "2      95.733385\n",
      "3      99.019112\n",
      "4      92.857410\n",
      "...          ...\n",
      "9995   61.549854\n",
      "9996   76.890558\n",
      "9997   57.813893\n",
      "9998   73.733608\n",
      "9999   51.142096\n",
      "\n",
      "[10000 rows x 1 columns]\n"
     ]
    }
   ],
   "source": [
    "wei = df.iloc[0:10000][['Weight']]\n",
    "w = wei * 0.45\n",
    "print(w)"
   ]
  },
  {
   "cell_type": "code",
   "execution_count": 33,
   "id": "6667d710",
   "metadata": {},
   "outputs": [
    {
     "data": {
      "text/html": [
       "<div>\n",
       "<style scoped>\n",
       "    .dataframe tbody tr th:only-of-type {\n",
       "        vertical-align: middle;\n",
       "    }\n",
       "\n",
       "    .dataframe tbody tr th {\n",
       "        vertical-align: top;\n",
       "    }\n",
       "\n",
       "    .dataframe thead th {\n",
       "        text-align: right;\n",
       "    }\n",
       "</style>\n",
       "<table border=\"1\" class=\"dataframe\">\n",
       "  <thead>\n",
       "    <tr style=\"text-align: right;\">\n",
       "      <th></th>\n",
       "      <th>Gender</th>\n",
       "      <th>Height</th>\n",
       "      <th>Weight</th>\n",
       "    </tr>\n",
       "  </thead>\n",
       "  <tbody>\n",
       "    <tr>\n",
       "      <th>0</th>\n",
       "      <td>Male</td>\n",
       "      <td>187.571423</td>\n",
       "      <td>108.852103</td>\n",
       "    </tr>\n",
       "    <tr>\n",
       "      <th>1</th>\n",
       "      <td>Male</td>\n",
       "      <td>174.706036</td>\n",
       "      <td>73.039713</td>\n",
       "    </tr>\n",
       "    <tr>\n",
       "      <th>2</th>\n",
       "      <td>Male</td>\n",
       "      <td>188.239668</td>\n",
       "      <td>95.733385</td>\n",
       "    </tr>\n",
       "    <tr>\n",
       "      <th>3</th>\n",
       "      <td>Male</td>\n",
       "      <td>182.196685</td>\n",
       "      <td>99.019112</td>\n",
       "    </tr>\n",
       "    <tr>\n",
       "      <th>4</th>\n",
       "      <td>Male</td>\n",
       "      <td>177.499761</td>\n",
       "      <td>92.857410</td>\n",
       "    </tr>\n",
       "    <tr>\n",
       "      <th>...</th>\n",
       "      <td>...</td>\n",
       "      <td>...</td>\n",
       "      <td>...</td>\n",
       "    </tr>\n",
       "    <tr>\n",
       "      <th>9995</th>\n",
       "      <td>Female</td>\n",
       "      <td>168.078536</td>\n",
       "      <td>61.549854</td>\n",
       "    </tr>\n",
       "    <tr>\n",
       "      <th>9996</th>\n",
       "      <td>Female</td>\n",
       "      <td>170.350573</td>\n",
       "      <td>76.890558</td>\n",
       "    </tr>\n",
       "    <tr>\n",
       "      <th>9997</th>\n",
       "      <td>Female</td>\n",
       "      <td>162.224700</td>\n",
       "      <td>57.813893</td>\n",
       "    </tr>\n",
       "    <tr>\n",
       "      <th>9998</th>\n",
       "      <td>Female</td>\n",
       "      <td>175.346978</td>\n",
       "      <td>73.733608</td>\n",
       "    </tr>\n",
       "    <tr>\n",
       "      <th>9999</th>\n",
       "      <td>Female</td>\n",
       "      <td>157.338385</td>\n",
       "      <td>51.142096</td>\n",
       "    </tr>\n",
       "  </tbody>\n",
       "</table>\n",
       "<p>10000 rows × 3 columns</p>\n",
       "</div>"
      ],
      "text/plain": [
       "      Gender      Height      Weight\n",
       "0       Male  187.571423  108.852103\n",
       "1       Male  174.706036   73.039713\n",
       "2       Male  188.239668   95.733385\n",
       "3       Male  182.196685   99.019112\n",
       "4       Male  177.499761   92.857410\n",
       "...      ...         ...         ...\n",
       "9995  Female  168.078536   61.549854\n",
       "9996  Female  170.350573   76.890558\n",
       "9997  Female  162.224700   57.813893\n",
       "9998  Female  175.346978   73.733608\n",
       "9999  Female  157.338385   51.142096\n",
       "\n",
       "[10000 rows x 3 columns]"
      ]
     },
     "execution_count": 33,
     "metadata": {},
     "output_type": "execute_result"
    }
   ],
   "source": [
    "df['Height'] = h\n",
    "df['Weight'] = w\n",
    "df"
   ]
  },
  {
   "cell_type": "code",
   "execution_count": 34,
   "id": "148a2058",
   "metadata": {},
   "outputs": [
    {
     "data": {
      "text/html": [
       "<div>\n",
       "<style scoped>\n",
       "    .dataframe tbody tr th:only-of-type {\n",
       "        vertical-align: middle;\n",
       "    }\n",
       "\n",
       "    .dataframe tbody tr th {\n",
       "        vertical-align: top;\n",
       "    }\n",
       "\n",
       "    .dataframe thead th {\n",
       "        text-align: right;\n",
       "    }\n",
       "</style>\n",
       "<table border=\"1\" class=\"dataframe\">\n",
       "  <thead>\n",
       "    <tr style=\"text-align: right;\">\n",
       "      <th></th>\n",
       "      <th>Gender</th>\n",
       "      <th>Height</th>\n",
       "      <th>Weight</th>\n",
       "    </tr>\n",
       "  </thead>\n",
       "  <tbody>\n",
       "    <tr>\n",
       "      <th>0</th>\n",
       "      <td>Male</td>\n",
       "      <td>187.571423</td>\n",
       "      <td>108.852103</td>\n",
       "    </tr>\n",
       "    <tr>\n",
       "      <th>1</th>\n",
       "      <td>Male</td>\n",
       "      <td>174.706036</td>\n",
       "      <td>73.039713</td>\n",
       "    </tr>\n",
       "    <tr>\n",
       "      <th>2</th>\n",
       "      <td>Male</td>\n",
       "      <td>188.239668</td>\n",
       "      <td>95.733385</td>\n",
       "    </tr>\n",
       "    <tr>\n",
       "      <th>3</th>\n",
       "      <td>Male</td>\n",
       "      <td>182.196685</td>\n",
       "      <td>99.019112</td>\n",
       "    </tr>\n",
       "    <tr>\n",
       "      <th>4</th>\n",
       "      <td>Male</td>\n",
       "      <td>177.499761</td>\n",
       "      <td>92.857410</td>\n",
       "    </tr>\n",
       "    <tr>\n",
       "      <th>...</th>\n",
       "      <td>...</td>\n",
       "      <td>...</td>\n",
       "      <td>...</td>\n",
       "    </tr>\n",
       "    <tr>\n",
       "      <th>9995</th>\n",
       "      <td>Female</td>\n",
       "      <td>168.078536</td>\n",
       "      <td>61.549854</td>\n",
       "    </tr>\n",
       "    <tr>\n",
       "      <th>9996</th>\n",
       "      <td>Female</td>\n",
       "      <td>170.350573</td>\n",
       "      <td>76.890558</td>\n",
       "    </tr>\n",
       "    <tr>\n",
       "      <th>9997</th>\n",
       "      <td>Female</td>\n",
       "      <td>162.224700</td>\n",
       "      <td>57.813893</td>\n",
       "    </tr>\n",
       "    <tr>\n",
       "      <th>9998</th>\n",
       "      <td>Female</td>\n",
       "      <td>175.346978</td>\n",
       "      <td>73.733608</td>\n",
       "    </tr>\n",
       "    <tr>\n",
       "      <th>9999</th>\n",
       "      <td>Female</td>\n",
       "      <td>157.338385</td>\n",
       "      <td>51.142096</td>\n",
       "    </tr>\n",
       "  </tbody>\n",
       "</table>\n",
       "<p>10000 rows × 3 columns</p>\n",
       "</div>"
      ],
      "text/plain": [
       "      Gender      Height      Weight\n",
       "0       Male  187.571423  108.852103\n",
       "1       Male  174.706036   73.039713\n",
       "2       Male  188.239668   95.733385\n",
       "3       Male  182.196685   99.019112\n",
       "4       Male  177.499761   92.857410\n",
       "...      ...         ...         ...\n",
       "9995  Female  168.078536   61.549854\n",
       "9996  Female  170.350573   76.890558\n",
       "9997  Female  162.224700   57.813893\n",
       "9998  Female  175.346978   73.733608\n",
       "9999  Female  157.338385   51.142096\n",
       "\n",
       "[10000 rows x 3 columns]"
      ]
     },
     "execution_count": 34,
     "metadata": {},
     "output_type": "execute_result"
    }
   ],
   "source": [
    "new_df = df\n",
    "new_df"
   ]
  },
  {
   "cell_type": "markdown",
   "id": "e983e0de",
   "metadata": {},
   "source": [
    "# Разделение датасета на 2 датафрейма по гендерному признаку."
   ]
  },
  {
   "cell_type": "markdown",
   "id": "fc1263e3",
   "metadata": {},
   "source": [
    "# перевод категоиального признака в количественный с помощью метода LabelEncoder"
   ]
  },
  {
   "cell_type": "code",
   "execution_count": 37,
   "id": "c7f7a1fe",
   "metadata": {},
   "outputs": [],
   "source": [
    "from sklearn.preprocessing import LabelEncoder"
   ]
  },
  {
   "cell_type": "code",
   "execution_count": 39,
   "id": "d14053e6",
   "metadata": {},
   "outputs": [
    {
     "data": {
      "text/html": [
       "<div>\n",
       "<style scoped>\n",
       "    .dataframe tbody tr th:only-of-type {\n",
       "        vertical-align: middle;\n",
       "    }\n",
       "\n",
       "    .dataframe tbody tr th {\n",
       "        vertical-align: top;\n",
       "    }\n",
       "\n",
       "    .dataframe thead th {\n",
       "        text-align: right;\n",
       "    }\n",
       "</style>\n",
       "<table border=\"1\" class=\"dataframe\">\n",
       "  <thead>\n",
       "    <tr style=\"text-align: right;\">\n",
       "      <th></th>\n",
       "      <th>Gender</th>\n",
       "      <th>Height</th>\n",
       "      <th>Weight</th>\n",
       "    </tr>\n",
       "  </thead>\n",
       "  <tbody>\n",
       "    <tr>\n",
       "      <th>0</th>\n",
       "      <td>1</td>\n",
       "      <td>187.571423</td>\n",
       "      <td>108.852103</td>\n",
       "    </tr>\n",
       "    <tr>\n",
       "      <th>1</th>\n",
       "      <td>1</td>\n",
       "      <td>174.706036</td>\n",
       "      <td>73.039713</td>\n",
       "    </tr>\n",
       "    <tr>\n",
       "      <th>2</th>\n",
       "      <td>1</td>\n",
       "      <td>188.239668</td>\n",
       "      <td>95.733385</td>\n",
       "    </tr>\n",
       "    <tr>\n",
       "      <th>3</th>\n",
       "      <td>1</td>\n",
       "      <td>182.196685</td>\n",
       "      <td>99.019112</td>\n",
       "    </tr>\n",
       "    <tr>\n",
       "      <th>4</th>\n",
       "      <td>1</td>\n",
       "      <td>177.499761</td>\n",
       "      <td>92.857410</td>\n",
       "    </tr>\n",
       "    <tr>\n",
       "      <th>...</th>\n",
       "      <td>...</td>\n",
       "      <td>...</td>\n",
       "      <td>...</td>\n",
       "    </tr>\n",
       "    <tr>\n",
       "      <th>9995</th>\n",
       "      <td>0</td>\n",
       "      <td>168.078536</td>\n",
       "      <td>61.549854</td>\n",
       "    </tr>\n",
       "    <tr>\n",
       "      <th>9996</th>\n",
       "      <td>0</td>\n",
       "      <td>170.350573</td>\n",
       "      <td>76.890558</td>\n",
       "    </tr>\n",
       "    <tr>\n",
       "      <th>9997</th>\n",
       "      <td>0</td>\n",
       "      <td>162.224700</td>\n",
       "      <td>57.813893</td>\n",
       "    </tr>\n",
       "    <tr>\n",
       "      <th>9998</th>\n",
       "      <td>0</td>\n",
       "      <td>175.346978</td>\n",
       "      <td>73.733608</td>\n",
       "    </tr>\n",
       "    <tr>\n",
       "      <th>9999</th>\n",
       "      <td>0</td>\n",
       "      <td>157.338385</td>\n",
       "      <td>51.142096</td>\n",
       "    </tr>\n",
       "  </tbody>\n",
       "</table>\n",
       "<p>10000 rows × 3 columns</p>\n",
       "</div>"
      ],
      "text/plain": [
       "      Gender      Height      Weight\n",
       "0          1  187.571423  108.852103\n",
       "1          1  174.706036   73.039713\n",
       "2          1  188.239668   95.733385\n",
       "3          1  182.196685   99.019112\n",
       "4          1  177.499761   92.857410\n",
       "...      ...         ...         ...\n",
       "9995       0  168.078536   61.549854\n",
       "9996       0  170.350573   76.890558\n",
       "9997       0  162.224700   57.813893\n",
       "9998       0  175.346978   73.733608\n",
       "9999       0  157.338385   51.142096\n",
       "\n",
       "[10000 rows x 3 columns]"
      ]
     },
     "execution_count": 39,
     "metadata": {},
     "output_type": "execute_result"
    }
   ],
   "source": [
    "g = LabelEncoder()\n",
    "g.fit(new_df.Gender)\n",
    "new_df['Gender'] = g.transform(new_df.Gender)\n",
    "new_df"
   ]
  },
  {
   "cell_type": "code",
   "execution_count": 56,
   "id": "822a22a4",
   "metadata": {},
   "outputs": [],
   "source": [
    "male = new_df.iloc[:5000]\n",
    "female = new_df.iloc[5000:]"
   ]
  },
  {
   "cell_type": "code",
   "execution_count": 57,
   "id": "68617de8",
   "metadata": {},
   "outputs": [
    {
     "data": {
      "text/html": [
       "<div>\n",
       "<style scoped>\n",
       "    .dataframe tbody tr th:only-of-type {\n",
       "        vertical-align: middle;\n",
       "    }\n",
       "\n",
       "    .dataframe tbody tr th {\n",
       "        vertical-align: top;\n",
       "    }\n",
       "\n",
       "    .dataframe thead th {\n",
       "        text-align: right;\n",
       "    }\n",
       "</style>\n",
       "<table border=\"1\" class=\"dataframe\">\n",
       "  <thead>\n",
       "    <tr style=\"text-align: right;\">\n",
       "      <th></th>\n",
       "      <th>Gender</th>\n",
       "      <th>Height</th>\n",
       "      <th>Weight</th>\n",
       "    </tr>\n",
       "  </thead>\n",
       "  <tbody>\n",
       "    <tr>\n",
       "      <th>0</th>\n",
       "      <td>1</td>\n",
       "      <td>187.571423</td>\n",
       "      <td>108.852103</td>\n",
       "    </tr>\n",
       "    <tr>\n",
       "      <th>1</th>\n",
       "      <td>1</td>\n",
       "      <td>174.706036</td>\n",
       "      <td>73.039713</td>\n",
       "    </tr>\n",
       "    <tr>\n",
       "      <th>2</th>\n",
       "      <td>1</td>\n",
       "      <td>188.239668</td>\n",
       "      <td>95.733385</td>\n",
       "    </tr>\n",
       "    <tr>\n",
       "      <th>3</th>\n",
       "      <td>1</td>\n",
       "      <td>182.196685</td>\n",
       "      <td>99.019112</td>\n",
       "    </tr>\n",
       "    <tr>\n",
       "      <th>4</th>\n",
       "      <td>1</td>\n",
       "      <td>177.499761</td>\n",
       "      <td>92.857410</td>\n",
       "    </tr>\n",
       "    <tr>\n",
       "      <th>...</th>\n",
       "      <td>...</td>\n",
       "      <td>...</td>\n",
       "      <td>...</td>\n",
       "    </tr>\n",
       "    <tr>\n",
       "      <th>4995</th>\n",
       "      <td>1</td>\n",
       "      <td>174.904559</td>\n",
       "      <td>79.708973</td>\n",
       "    </tr>\n",
       "    <tr>\n",
       "      <th>4996</th>\n",
       "      <td>1</td>\n",
       "      <td>175.192494</td>\n",
       "      <td>71.678353</td>\n",
       "    </tr>\n",
       "    <tr>\n",
       "      <th>4997</th>\n",
       "      <td>1</td>\n",
       "      <td>170.215039</td>\n",
       "      <td>89.637930</td>\n",
       "    </tr>\n",
       "    <tr>\n",
       "      <th>4998</th>\n",
       "      <td>1</td>\n",
       "      <td>181.756605</td>\n",
       "      <td>83.657659</td>\n",
       "    </tr>\n",
       "    <tr>\n",
       "      <th>4999</th>\n",
       "      <td>1</td>\n",
       "      <td>178.693775</td>\n",
       "      <td>89.506355</td>\n",
       "    </tr>\n",
       "  </tbody>\n",
       "</table>\n",
       "<p>5000 rows × 3 columns</p>\n",
       "</div>"
      ],
      "text/plain": [
       "      Gender      Height      Weight\n",
       "0          1  187.571423  108.852103\n",
       "1          1  174.706036   73.039713\n",
       "2          1  188.239668   95.733385\n",
       "3          1  182.196685   99.019112\n",
       "4          1  177.499761   92.857410\n",
       "...      ...         ...         ...\n",
       "4995       1  174.904559   79.708973\n",
       "4996       1  175.192494   71.678353\n",
       "4997       1  170.215039   89.637930\n",
       "4998       1  181.756605   83.657659\n",
       "4999       1  178.693775   89.506355\n",
       "\n",
       "[5000 rows x 3 columns]"
      ]
     },
     "execution_count": 57,
     "metadata": {},
     "output_type": "execute_result"
    }
   ],
   "source": [
    "male"
   ]
  },
  {
   "cell_type": "code",
   "execution_count": 58,
   "id": "8e12d9a4",
   "metadata": {},
   "outputs": [
    {
     "data": {
      "text/html": [
       "<div>\n",
       "<style scoped>\n",
       "    .dataframe tbody tr th:only-of-type {\n",
       "        vertical-align: middle;\n",
       "    }\n",
       "\n",
       "    .dataframe tbody tr th {\n",
       "        vertical-align: top;\n",
       "    }\n",
       "\n",
       "    .dataframe thead th {\n",
       "        text-align: right;\n",
       "    }\n",
       "</style>\n",
       "<table border=\"1\" class=\"dataframe\">\n",
       "  <thead>\n",
       "    <tr style=\"text-align: right;\">\n",
       "      <th></th>\n",
       "      <th>Gender</th>\n",
       "      <th>Height</th>\n",
       "      <th>Weight</th>\n",
       "    </tr>\n",
       "  </thead>\n",
       "  <tbody>\n",
       "    <tr>\n",
       "      <th>5000</th>\n",
       "      <td>0</td>\n",
       "      <td>149.633259</td>\n",
       "      <td>45.939747</td>\n",
       "    </tr>\n",
       "    <tr>\n",
       "      <th>5001</th>\n",
       "      <td>0</td>\n",
       "      <td>165.684232</td>\n",
       "      <td>63.587620</td>\n",
       "    </tr>\n",
       "    <tr>\n",
       "      <th>5002</th>\n",
       "      <td>0</td>\n",
       "      <td>160.957270</td>\n",
       "      <td>58.968631</td>\n",
       "    </tr>\n",
       "    <tr>\n",
       "      <th>5003</th>\n",
       "      <td>0</td>\n",
       "      <td>163.779193</td>\n",
       "      <td>57.677180</td>\n",
       "    </tr>\n",
       "    <tr>\n",
       "      <th>5004</th>\n",
       "      <td>0</td>\n",
       "      <td>156.954464</td>\n",
       "      <td>58.401633</td>\n",
       "    </tr>\n",
       "    <tr>\n",
       "      <th>...</th>\n",
       "      <td>...</td>\n",
       "      <td>...</td>\n",
       "      <td>...</td>\n",
       "    </tr>\n",
       "    <tr>\n",
       "      <th>9995</th>\n",
       "      <td>0</td>\n",
       "      <td>168.078536</td>\n",
       "      <td>61.549854</td>\n",
       "    </tr>\n",
       "    <tr>\n",
       "      <th>9996</th>\n",
       "      <td>0</td>\n",
       "      <td>170.350573</td>\n",
       "      <td>76.890558</td>\n",
       "    </tr>\n",
       "    <tr>\n",
       "      <th>9997</th>\n",
       "      <td>0</td>\n",
       "      <td>162.224700</td>\n",
       "      <td>57.813893</td>\n",
       "    </tr>\n",
       "    <tr>\n",
       "      <th>9998</th>\n",
       "      <td>0</td>\n",
       "      <td>175.346978</td>\n",
       "      <td>73.733608</td>\n",
       "    </tr>\n",
       "    <tr>\n",
       "      <th>9999</th>\n",
       "      <td>0</td>\n",
       "      <td>157.338385</td>\n",
       "      <td>51.142096</td>\n",
       "    </tr>\n",
       "  </tbody>\n",
       "</table>\n",
       "<p>5000 rows × 3 columns</p>\n",
       "</div>"
      ],
      "text/plain": [
       "      Gender      Height     Weight\n",
       "5000       0  149.633259  45.939747\n",
       "5001       0  165.684232  63.587620\n",
       "5002       0  160.957270  58.968631\n",
       "5003       0  163.779193  57.677180\n",
       "5004       0  156.954464  58.401633\n",
       "...      ...         ...        ...\n",
       "9995       0  168.078536  61.549854\n",
       "9996       0  170.350573  76.890558\n",
       "9997       0  162.224700  57.813893\n",
       "9998       0  175.346978  73.733608\n",
       "9999       0  157.338385  51.142096\n",
       "\n",
       "[5000 rows x 3 columns]"
      ]
     },
     "execution_count": 58,
     "metadata": {},
     "output_type": "execute_result"
    }
   ],
   "source": [
    "female"
   ]
  },
  {
   "cell_type": "markdown",
   "id": "61b64b08",
   "metadata": {},
   "source": [
    "# функция для определения количества записей в каждой коллекции, математического ожидания, стандартного отклонения, min и max значения по каждому из столбцов, разбиения на квантили"
   ]
  },
  {
   "cell_type": "code",
   "execution_count": 71,
   "id": "4a085f9e",
   "metadata": {},
   "outputs": [
    {
     "data": {
      "text/plain": [
       "Gender      1.000000\n",
       "Height    175.326919\n",
       "Weight     84.159279\n",
       "dtype: float64"
      ]
     },
     "execution_count": 71,
     "metadata": {},
     "output_type": "execute_result"
    }
   ],
   "source": [
    "male.mean()"
   ]
  },
  {
   "cell_type": "code",
   "execution_count": 74,
   "id": "0cef22d1",
   "metadata": {},
   "outputs": [
    {
     "data": {
      "text/plain": [
       "Gender    5000\n",
       "Height    5000\n",
       "Weight    5000\n",
       "dtype: int64"
      ]
     },
     "execution_count": 74,
     "metadata": {},
     "output_type": "execute_result"
    }
   ],
   "source": [
    "male.count()"
   ]
  },
  {
   "cell_type": "code",
   "execution_count": 73,
   "id": "7f695840",
   "metadata": {},
   "outputs": [
    {
     "data": {
      "text/plain": [
       "Gender      1.000000\n",
       "Height    148.353539\n",
       "Weight     50.806323\n",
       "dtype: float64"
      ]
     },
     "execution_count": 73,
     "metadata": {},
     "output_type": "execute_result"
    }
   ],
   "source": [
    "male.min()"
   ]
  },
  {
   "cell_type": "code",
   "execution_count": 75,
   "id": "19e4a22a",
   "metadata": {},
   "outputs": [
    {
     "data": {
      "text/plain": [
       "Gender      1.000000\n",
       "Height    200.656806\n",
       "Weight    121.495364\n",
       "dtype: float64"
      ]
     },
     "execution_count": 75,
     "metadata": {},
     "output_type": "execute_result"
    }
   ],
   "source": [
    "male.max()"
   ]
  },
  {
   "cell_type": "code",
   "execution_count": 76,
   "id": "5b9d221d",
   "metadata": {},
   "outputs": [
    {
     "data": {
      "text/plain": [
       "Gender    0.00000\n",
       "Height    7.27294\n",
       "Weight    8.90152\n",
       "dtype: float64"
      ]
     },
     "execution_count": 76,
     "metadata": {},
     "output_type": "execute_result"
    }
   ],
   "source": [
    "male.std()"
   ]
  },
  {
   "cell_type": "code",
   "execution_count": 77,
   "id": "da65a41c",
   "metadata": {},
   "outputs": [
    {
     "data": {
      "text/plain": [
       "Gender      1.000000\n",
       "Height    170.623685\n",
       "Weight     78.249495\n",
       "Name: 0.25, dtype: float64"
      ]
     },
     "execution_count": 77,
     "metadata": {},
     "output_type": "execute_result"
    }
   ],
   "source": [
    "male.quantile(0.25)"
   ]
  },
  {
   "cell_type": "code",
   "execution_count": 78,
   "id": "d2bfb5ed",
   "metadata": {},
   "outputs": [
    {
     "data": {
      "text/plain": [
       "Gender      1.000000\n",
       "Height    175.330380\n",
       "Weight     84.165096\n",
       "Name: 0.5, dtype: float64"
      ]
     },
     "execution_count": 78,
     "metadata": {},
     "output_type": "execute_result"
    }
   ],
   "source": [
    "male.quantile(0.50)"
   ]
  },
  {
   "cell_type": "code",
   "execution_count": 79,
   "id": "12208c20",
   "metadata": {},
   "outputs": [
    {
     "data": {
      "text/plain": [
       "Gender      1.000000\n",
       "Height    180.311409\n",
       "Weight     90.161011\n",
       "Name: 0.75, dtype: float64"
      ]
     },
     "execution_count": 79,
     "metadata": {},
     "output_type": "execute_result"
    }
   ],
   "source": [
    "male.quantile(0.75)"
   ]
  },
  {
   "cell_type": "code",
   "execution_count": 80,
   "id": "150d90c7",
   "metadata": {},
   "outputs": [
    {
     "data": {
      "text/plain": [
       "Gender      0.000000\n",
       "Height    161.820285\n",
       "Weight     61.137042\n",
       "dtype: float64"
      ]
     },
     "execution_count": 80,
     "metadata": {},
     "output_type": "execute_result"
    }
   ],
   "source": [
    "female.mean()"
   ]
  },
  {
   "cell_type": "code",
   "execution_count": 81,
   "id": "dc627366",
   "metadata": {},
   "outputs": [
    {
     "data": {
      "text/plain": [
       "Gender    5000\n",
       "Height    5000\n",
       "Weight    5000\n",
       "dtype: int64"
      ]
     },
     "execution_count": 81,
     "metadata": {},
     "output_type": "execute_result"
    }
   ],
   "source": [
    "female.count()"
   ]
  },
  {
   "cell_type": "code",
   "execution_count": 82,
   "id": "f5c15764",
   "metadata": {},
   "outputs": [
    {
     "data": {
      "text/plain": [
       "Gender      0.000000\n",
       "Height    137.828359\n",
       "Weight     29.115057\n",
       "dtype: float64"
      ]
     },
     "execution_count": 82,
     "metadata": {},
     "output_type": "execute_result"
    }
   ],
   "source": [
    "female.min()"
   ]
  },
  {
   "cell_type": "code",
   "execution_count": 83,
   "id": "a4a4787c",
   "metadata": {},
   "outputs": [
    {
     "data": {
      "text/plain": [
       "Gender      0.000000\n",
       "Height    186.409548\n",
       "Weight     91.006746\n",
       "dtype: float64"
      ]
     },
     "execution_count": 83,
     "metadata": {},
     "output_type": "execute_result"
    }
   ],
   "source": [
    "female.max()"
   ]
  },
  {
   "cell_type": "code",
   "execution_count": 84,
   "id": "5ca2dff2",
   "metadata": {},
   "outputs": [
    {
     "data": {
      "text/plain": [
       "Gender    0.000000\n",
       "Height    6.848561\n",
       "Weight    8.560111\n",
       "dtype: float64"
      ]
     },
     "execution_count": 84,
     "metadata": {},
     "output_type": "execute_result"
    }
   ],
   "source": [
    "female.std()"
   ]
  },
  {
   "cell_type": "code",
   "execution_count": 85,
   "id": "00409c8f",
   "metadata": {},
   "outputs": [
    {
     "data": {
      "text/plain": [
       "Gender      0.000000\n",
       "Height    157.211881\n",
       "Weight     55.320343\n",
       "Name: 0.25, dtype: float64"
      ]
     },
     "execution_count": 85,
     "metadata": {},
     "output_type": "execute_result"
    }
   ],
   "source": [
    "female.quantile(0.25)"
   ]
  },
  {
   "cell_type": "code",
   "execution_count": 86,
   "id": "7d4cd692",
   "metadata": {},
   "outputs": [
    {
     "data": {
      "text/plain": [
       "Gender      0.000000\n",
       "Height    161.876547\n",
       "Weight     61.252912\n",
       "Name: 0.5, dtype: float64"
      ]
     },
     "execution_count": 86,
     "metadata": {},
     "output_type": "execute_result"
    }
   ],
   "source": [
    "female.quantile(0.50)"
   ]
  },
  {
   "cell_type": "code",
   "execution_count": 87,
   "id": "0d7fef9d",
   "metadata": {},
   "outputs": [
    {
     "data": {
      "text/plain": [
       "Gender      0.000000\n",
       "Height    166.531456\n",
       "Weight     66.964917\n",
       "Name: 0.75, dtype: float64"
      ]
     },
     "execution_count": 87,
     "metadata": {},
     "output_type": "execute_result"
    }
   ],
   "source": [
    "female.quantile(0.75)"
   ]
  },
  {
   "cell_type": "markdown",
   "id": "0154d0b1",
   "metadata": {},
   "source": [
    "# визуализация роста и веса"
   ]
  },
  {
   "cell_type": "code",
   "execution_count": 69,
   "id": "92f6fdb6",
   "metadata": {},
   "outputs": [
    {
     "data": {
      "text/plain": [
       "Text(0, 0.5, 'Частота')"
      ]
     },
     "execution_count": 69,
     "metadata": {},
     "output_type": "execute_result"
    },
    {
     "data": {
      "image/png": "[encoded data removed]",
      "text/plain": [
       "<Figure size 640x480 with 1 Axes>"
      ]
     },
     "metadata": {},
     "output_type": "display_data"
    }
   ],
   "source": [
    "new_df.hist(column = 'Height')\n",
    "plt.xlabel('Рост')\n",
    "plt.ylabel('Частота')"
   ]
  },
  {
   "cell_type": "code",
   "execution_count": 70,
   "id": "c60219d2",
   "metadata": {},
   "outputs": [
    {
     "data": {
      "text/plain": [
       "Text(0, 0.5, 'Частота')"
      ]
     },
     "execution_count": 70,
     "metadata": {},
     "output_type": "execute_result"
    },
    {
     "data": {
      "image/png": "[encoded data removed]",
      "text/plain": [
       "<Figure size 640x480 with 1 Axes>"
      ]
     },
     "metadata": {},
     "output_type": "display_data"
    }
   ],
   "source": [
    "new_df.hist(column = 'Weight')\n",
    "plt.xlabel('Вес')\n",
    "plt.ylabel('Частота')"
   ]
  },
  {
   "cell_type": "markdown",
   "id": "fe79084a",
   "metadata": {},
   "source": [
    "# метод describe"
   ]
  },
  {
   "cell_type": "code",
   "execution_count": 90,
   "id": "f6948bf4",
   "metadata": {},
   "outputs": [
    {
     "name": "stdout",
     "output_type": "stream",
     "text": [
      "       Gender       Height       Weight\n",
      "count  5000.0  5000.000000  5000.000000\n",
      "mean      1.0   175.326919    84.159279\n",
      "std       0.0     7.272940     8.901520\n",
      "min       1.0   148.353539    50.806323\n",
      "25%       1.0   170.623685    78.249495\n",
      "50%       1.0   175.330380    84.165096\n",
      "75%       1.0   180.311409    90.161011\n",
      "max       1.0   200.656806   121.495364\n"
     ]
    }
   ],
   "source": [
    "fun = male.describe(include = 'all')\n",
    "print(fun)"
   ]
  },
  {
   "cell_type": "code",
   "execution_count": 91,
   "id": "ca0bb283",
   "metadata": {},
   "outputs": [
    {
     "name": "stdout",
     "output_type": "stream",
     "text": [
      "       Gender       Height       Weight\n",
      "count  5000.0  5000.000000  5000.000000\n",
      "mean      0.0   161.820285    61.137042\n",
      "std       0.0     6.848561     8.560111\n",
      "min       0.0   137.828359    29.115057\n",
      "25%       0.0   157.211881    55.320343\n",
      "50%       0.0   161.876547    61.252912\n",
      "75%       0.0   166.531456    66.964917\n",
      "max       0.0   186.409548    91.006746\n"
     ]
    }
   ],
   "source": [
    "fun = female.describe(include = 'all')\n",
    "print(fun)"
   ]
  },
  {
   "cell_type": "markdown",
   "id": "8de78628",
   "metadata": {},
   "source": [
    "# Кластеризация"
   ]
  },
  {
   "cell_type": "code",
   "execution_count": 92,
   "id": "35e9425e",
   "metadata": {},
   "outputs": [],
   "source": [
    "from sklearn.cluster import KMeans"
   ]
  },
  {
   "cell_type": "code",
   "execution_count": 95,
   "id": "b0cde90b",
   "metadata": {},
   "outputs": [],
   "source": [
    "df2=pd.read_csv(r'C:\\Users\\veron\\OneDrive\\Рабочий стол\\weight-height.csv')\n",
    "X = df2.iloc[:, [1, 2]].values\n"
   ]
  },
  {
   "cell_type": "code",
   "execution_count": 138,
   "id": "1bc04821",
   "metadata": {},
   "outputs": [
    {
     "data": {
      "image/png": "[encoded data removed]",
      "text/plain": [
       "<Figure size 640x480 with 1 Axes>"
      ]
     },
     "metadata": {},
     "output_type": "display_data"
    }
   ],
   "source": [
    "wcss = []\n",
    "for i in range(1, 11):\n",
    "    kmeans = KMeans(n_clusters = i, init = 'k-means++', random_state = 52)\n",
    "    kmeans.fit(X)\n",
    "    wcss.append(kmeans.inertia_)\n",
    "plt.plot(range(1, 11), wcss)\n",
    "plt.title('The Elbow Method')\n",
    "plt.xlabel('Number of clusters')\n",
    "plt.ylabel('WCSS')\n",
    "plt.show()"
   ]
  },
  {
   "cell_type": "code",
   "execution_count": 115,
   "id": "77784d54",
   "metadata": {},
   "outputs": [
    {
     "name": "stdout",
     "output_type": "stream",
     "text": [
      "[10456507.525427226, 2936583.2594811926, 1565617.283282204, 956730.8396173029, 655191.0202107751, 484219.2321039968, 369888.21134322154, 294661.31023183465, 241157.22968619986, 203594.7995147913]\n"
     ]
    }
   ],
   "source": [
    "print(wcss)"
   ]
  },
  {
   "cell_type": "code",
   "execution_count": 116,
   "id": "35b41b5e",
   "metadata": {},
   "outputs": [
    {
     "name": "stdout",
     "output_type": "stream",
     "text": [
      "0.28083786602173477\n",
      "0.5331424805434607\n",
      "0.6110885781814988\n",
      "0.6848227245113733\n",
      "0.739050471033964\n",
      "0.7638858327373909\n",
      "0.7966226043317087\n",
      "0.8184217653022087\n",
      "0.844240911954886\n"
     ]
    }
   ],
   "source": [
    "for i in range(1, 10):\n",
    "    cl = wcss[i] / wcss[i - 1]\n",
    "    print(cl)"
   ]
  },
  {
   "cell_type": "code",
   "execution_count": 117,
   "id": "37736a31",
   "metadata": {},
   "outputs": [
    {
     "name": "stdout",
     "output_type": "stream",
     "text": [
      "0.5332823009996006\n",
      "2\n"
     ]
    }
   ],
   "source": [
    "clus = [0.2808344214840415, 0.5332823009996006, 0.6109177711471514, 0.6844594954572976, 0.7389530176551751, 0.7630231222559087, 0.7987782616563276, 0.8198993963722984, 0.8433531935629681] \n",
    "clus.append(cl)\n",
    "max_i = 0\n",
    "cul = 0\n",
    "for i in range(1, 9):\n",
    "    max_ii = clus[i] - clus[i - 1]\n",
    "    if max_ii > max_i:\n",
    "        max_i = max_ii\n",
    "        cul = clus[i]\n",
    "print(cul)\n",
    "print(clus.index(cul) + 1)"
   ]
  },
  {
   "cell_type": "code",
   "execution_count": 142,
   "id": "fc02bf23",
   "metadata": {},
   "outputs": [],
   "source": [
    "kmeans = KMeans(n_clusters = 2, init = 'k-means++', random_state = 52)\n",
    "y_kmeans = kmeans.fit_predict(X)"
   ]
  },
  {
   "cell_type": "code",
   "execution_count": 143,
   "id": "d2a18c5d",
   "metadata": {},
   "outputs": [
    {
     "data": {
      "image/png": "[encoded data removed]",
      "text/plain": [
       "<Figure size 640x480 with 1 Axes>"
      ]
     },
     "metadata": {},
     "output_type": "display_data"
    }
   ],
   "source": [
    "plt.scatter(X[y_kmeans == 0, 0], X[y_kmeans == 0, 1], s = 100, c = 'pink', label = 'Cluster 1')\n",
    "plt.scatter(X[y_kmeans == 1, 0], X[y_kmeans == 1, 1], s = 100, c = 'green', label = 'Cluster 2')\n",
    "\n",
    "plt.scatter(kmeans.cluster_centers_[:, 0], kmeans.cluster_centers_[:, 1], s = 300, c = 'yellow', label = 'Centroids')\n",
    "plt.title('Clusters of customers')\n",
    "plt.legend()\n",
    "plt.show()"
   ]
  },
  {
   "cell_type": "code",
   "execution_count": 108,
   "id": "ac80b60d",
   "metadata": {},
   "outputs": [],
   "source": [
    "df=pd.read_csv(r'C:\\Users\\veron\\OneDrive\\Рабочий стол\\weight-height.csv')\n",
    "X = df.iloc[:, [1, 2]].values"
   ]
  },
  {
   "cell_type": "code",
   "execution_count": 109,
   "id": "a87cf69a",
   "metadata": {},
   "outputs": [
    {
     "data": {
      "image/png": "[encoded data removed]",
      "text/plain": [
       "<Figure size 640x480 with 1 Axes>"
      ]
     },
     "metadata": {},
     "output_type": "display_data"
    }
   ],
   "source": [
    "import scipy.cluster.hierarchy as sch\n",
    "dendrogram = sch.dendrogram(sch.linkage(X, method = 'ward'))\n",
    "plt.title('Dendogram')\n",
    "plt.show()"
   ]
  },
  {
   "cell_type": "code",
   "execution_count": 120,
   "id": "31ba5ba5",
   "metadata": {},
   "outputs": [],
   "source": [
    "from sklearn.cluster import AgglomerativeClustering\n"
   ]
  },
  {
   "cell_type": "code",
   "execution_count": 133,
   "id": "80aa3d27",
   "metadata": {},
   "outputs": [],
   "source": [
    "hc = AgglomerativeClustering(n_clusters = 2, affinity = 'euclidean', linkage = 'ward')\n",
    "y_hc = hc.fit_predict(X)"
   ]
  },
  {
   "cell_type": "code",
   "execution_count": 144,
   "id": "fcf95499",
   "metadata": {},
   "outputs": [
    {
     "data": {
      "image/png": "[encoded data removed]",
      "text/plain": [
       "<Figure size 640x480 with 1 Axes>"
      ]
     },
     "metadata": {},
     "output_type": "display_data"
    }
   ],
   "source": [
    "plt.scatter(X[y_hc == 0, 0], X[y_hc == 0, 1], s = 100, c = 'red', label = 'Cluster 1')\n",
    "\n",
    "\n",
    "plt.scatter(X[y_hc == 3, 0], X[y_hc == 3, 1], s = 100, c = 'cyan', label = 'Cluster 2')\n",
    "\n",
    "plt.title('Clusters of customers')\n",
    "plt.xlabel('Weight')\n",
    "plt.ylabel('Height')\n",
    "plt.legend()\n",
    "plt.show()"
   ]
  },
  {
   "cell_type": "markdown",
   "id": "e2d68005",
   "metadata": {},
   "source": [
    "# Функция предсказания"
   ]
  },
  {
   "cell_type": "code",
   "execution_count": null,
   "id": "8773683f",
   "metadata": {},
   "outputs": [],
   "source": []
  }
 ],
 "metadata": {
  "kernelspec": {
   "display_name": "Python 3 (ipykernel)",
   "language": "python",
   "name": "python3"
  },
  "language_info": {
   "codemirror_mode": {
    "name": "ipython",
    "version": 3
   },
   "file_extension": ".py",
   "mimetype": "text/x-python",
   "name": "python",
   "nbconvert_exporter": "python",
   "pygments_lexer": "ipython3",
   "version": "3.9.13"
  }
 },
 "nbformat": 4,
 "nbformat_minor": 5
}
